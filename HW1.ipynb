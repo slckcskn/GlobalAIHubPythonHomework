{
 "metadata": {
  "language_info": {
   "codemirror_mode": {
    "name": "ipython",
    "version": 3
   },
   "file_extension": ".py",
   "mimetype": "text/x-python",
   "name": "python",
   "nbconvert_exporter": "python",
   "pygments_lexer": "ipython3",
   "version": 3
  },
  "orig_nbformat": 2
 },
 "nbformat": 4,
 "nbformat_minor": 2,
 "cells": [
  {
   "cell_type": "code",
   "execution_count": null,
   "metadata": {},
   "outputs": [],
   "source": [
    "a=int(input(\"Please enter an integer value: \"))\n",
    "b=str(input(\"Please enter a string value: \"))\n",
    "c=bool(input(\"Please enter a boolean value: \"))\n",
    "d=float(input(\"Please enter a float value: \"))\n",
    "e=complex(input(\"Please enter a complex value: \"))\n",
    "\n",
    "print(\"The class of the value you entered:{}\".format(type(a)))\n",
    "print(\"The class of the value you entered:{}\".format(type(b)))\n",
    "print(\"The class of the value you entered:{}\".format(type(c)))\n",
    "print(\"The class of the value you entered:{}\".format(type(d)))\n",
    "print(\"The class of the value you entered:{}\".format(type(e)))"
   ]
  }
 ]
}