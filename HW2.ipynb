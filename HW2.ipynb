{
 "metadata": {
  "language_info": {
   "codemirror_mode": {
    "name": "ipython",
    "version": 3
   },
   "file_extension": ".py",
   "mimetype": "text/x-python",
   "name": "python",
   "nbconvert_exporter": "python",
   "pygments_lexer": "ipython3",
   "version": 3
  },
  "orig_nbformat": 2
 },
 "nbformat": 4,
 "nbformat_minor": 2,
 "cells": [
  {
   "cell_type": "code",
   "execution_count": null,
   "metadata": {},
   "outputs": [],
   "source": [
    "user=[]\n",
    "user_firstname=input(\"Please enter your user first name: \")\n",
    "user_lastname=input(\"Please enter your last name: \")\n",
    "user_age=int(input(\"Please enter your age: \"))\n",
    "user_birthofyear=int(input(\"Please enter your birth year: \"))\n",
    "user.append(user_firstname)\n",
    "user.append(user_lastname)\n",
    "user.append(user_age)\n",
    "user.append(user_birthofyear)\n",
    "\n",
    "for i in user:\n",
    "    print(i)\n",
    "\n",
    "if user_age<18:\n",
    "        print(\"You can't go out because it's too dangerous.\")\n",
    "elif user_birthofyear>2002:\n",
    "        print(\"You can't go out because it's too dangerous.\")      \n",
    "else:\n",
    "        print(\"You can go out to the street.\")"
   ]
  }
 ]
}